{
 "cells": [
  {
   "cell_type": "code",
   "execution_count": 1,
   "id": "f9e15313",
   "metadata": {},
   "outputs": [],
   "source": [
    "import operator"
   ]
  },
  {
   "cell_type": "code",
   "execution_count": 26,
   "id": "c0f4b90b",
   "metadata": {},
   "outputs": [],
   "source": [
    "one_isnt_two = 1 == 2 # not  1.\n",
    "truth = True # True if statement is True, ben direkt True yazdim kisa olsun diye  2.\n",
    "one1, one2 = 1, 2 # is  3.\n",
    "one3, one4 = 1, 2 # isn't  4.\n",
    "negative_two = -2 # abs  5.\n",
    "three1, float_three = 3, 3.3 # add  6.\n",
    "a, b = 13, 4 # floordiv, mod, mul 7, 8 ve 9.\n",
    "negate_two = 2 # neg  10.\n",
    "positive_two = 3 # pos  11.\n",
    "base, exp = 2, 3 # pow, 12.\n",
    "true1, true2 = 45, 8 # sub, truediv  13 ve 14.\n",
    "concat1, concat2 = '9', '99' # concat  15."
   ]
  },
  {
   "cell_type": "code",
   "execution_count": 27,
   "id": "d89497e7",
   "metadata": {},
   "outputs": [
    {
     "name": "stdout",
     "output_type": "stream",
     "text": [
      "1 True\n",
      "2 True\n",
      "3 False\n",
      "4 True\n",
      "5 2\n",
      "6 17\n",
      "7 3\n",
      "8 1\n",
      "9 52\n",
      "10 -2\n",
      "11 3\n",
      "12 8\n",
      "13 5.625\n",
      "14 37\n",
      "15 999\n"
     ]
    }
   ],
   "source": [
    "print(str(1), operator.__not__(one_isnt_two)) # 1\n",
    "print(str(2), operator.truth(truth)) # 2\n",
    "print(str(3), operator.is_(one1, one2)) # 3\n",
    "print(str(4), operator.is_not(one3, one4)) # 4\n",
    "print(str(5), operator.abs(negative_two)) # 5\n",
    "print(str(6), operator.add(a, b)) # 6\n",
    "print(str(7), operator.floordiv(a, b)) # 7\n",
    "print(str(8), operator.mod(a, b)) # 8\n",
    "print(str(9), operator.mul(a, b)) # 9\n",
    "print(str(10), operator.neg(negate_two)) # 10\n",
    "print(str(11), operator.pos(positive_two)) # 11\n",
    "print(str(12), operator.pow(base, exp)) # 12\n",
    "print(str(13), operator.truediv(true1, true2)) # 13\n",
    "print(str(14), operator.sub(true1, true2)) # 14\n",
    "print(str(15), operator.concat(concat1, concat2)) # 14"
   ]
  }
 ],
 "metadata": {
  "kernelspec": {
   "display_name": "Python 3 (ipykernel)",
   "language": "python",
   "name": "python3"
  },
  "language_info": {
   "codemirror_mode": {
    "name": "ipython",
    "version": 3
   },
   "file_extension": ".py",
   "mimetype": "text/x-python",
   "name": "python",
   "nbconvert_exporter": "python",
   "pygments_lexer": "ipython3",
   "version": "3.9.13"
  }
 },
 "nbformat": 4,
 "nbformat_minor": 5
}
