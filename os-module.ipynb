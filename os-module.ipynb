{
 "cells": [
  {
   "cell_type": "code",
   "execution_count": 1,
   "id": "2d52a53f",
   "metadata": {},
   "outputs": [],
   "source": [
    "import os"
   ]
  },
  {
   "cell_type": "code",
   "execution_count": 2,
   "id": "b0370510",
   "metadata": {},
   "outputs": [
    {
     "name": "stdout",
     "output_type": "stream",
     "text": [
      "environ({'MANPATH': '/opt/homebrew/share/man:', 'TERM_PROGRAM': 'Apple_Terminal', 'SHELL': '/bin/bash', 'TERM': 'xterm-color', 'HOMEBREW_REPOSITORY': '/opt/homebrew', 'TMPDIR': '/var/folders/nf/q9zk4d916ns2jn1cfv2k48080000gn/T/', 'CONDA_SHLVL': '1', 'CONDA_PROMPT_MODIFIER': '(base) ', 'TERM_PROGRAM_VERSION': '445', 'GSETTINGS_SCHEMA_DIR_CONDA_BACKUP': '', 'TERM_SESSION_ID': '1704CAEA-3714-4B57-88BE-6A7B76EAB540', 'USER': 'ankaraunifedaisi', 'CONDA_EXE': '/Users/ankaraunifedaisi/miniforge3/bin/conda', 'SSH_AUTH_SOCK': '/private/tmp/com.apple.launchd.19caeqFqLO/Listeners', '_CE_CONDA': '', 'PATH': '/Library/Frameworks/Python.framework/Versions/3.10/bin:/opt/homebrew/bin:/opt/homebrew/sbin:/Users/ankaraunifedaisi/miniforge3/bin:/Users/ankaraunifedaisi/miniforge3/condabin:/usr/local/bin:/usr/bin:/bin:/usr/sbin:/sbin:/usr/local/share/dotnet:~/.dotnet/tools:/Library/Apple/usr/bin', 'GSETTINGS_SCHEMA_DIR': '/Users/ankaraunifedaisi/miniforge3/share/glib-2.0/schemas', 'CONDA_PREFIX': '/Users/ankaraunifedaisi/miniforge3', '__CFBundleIdentifier': 'com.apple.Terminal', 'PWD': '/Users/ankaraunifedaisi', 'XPC_FLAGS': '0x0', '_CE_M': '', 'XPC_SERVICE_NAME': '0', 'SHLVL': '1', 'HOME': '/Users/ankaraunifedaisi', 'HOMEBREW_PREFIX': '/opt/homebrew', 'CONDA_PYTHON_EXE': '/Users/ankaraunifedaisi/miniforge3/bin/python', 'LOGNAME': 'ankaraunifedaisi', 'LC_CTYPE': 'UTF-8', 'CONDA_DEFAULT_ENV': 'base', 'INFOPATH': '/opt/homebrew/share/info:', 'HOMEBREW_CELLAR': '/opt/homebrew/Cellar', '_': '/Users/ankaraunifedaisi/miniforge3/bin/jupyter', 'PYDEVD_USE_FRAME_EVAL': 'NO', 'JPY_PARENT_PID': '1774', 'CLICOLOR': '1', 'PAGER': 'cat', 'GIT_PAGER': 'cat', 'MPLBACKEND': 'module://matplotlib_inline.backend_inline'})\n"
     ]
    }
   ],
   "source": [
    "print(os.environ)"
   ]
  },
  {
   "cell_type": "code",
   "execution_count": 3,
   "id": "4fd27f36",
   "metadata": {},
   "outputs": [
    {
     "name": "stdout",
     "output_type": "stream",
     "text": [
      "/Users/ankaraunifedaisi\n"
     ]
    }
   ],
   "source": [
    "print(os.environ['HOME'])"
   ]
  },
  {
   "cell_type": "code",
   "execution_count": 6,
   "id": "ffbff6a0",
   "metadata": {},
   "outputs": [
    {
     "name": "stdout",
     "output_type": "stream",
     "text": [
      "MANPATH\n",
      "TERM_PROGRAM\n",
      "SHELL\n",
      "TERM\n",
      "HOMEBREW_REPOSITORY\n",
      "TMPDIR\n",
      "CONDA_SHLVL\n",
      "CONDA_PROMPT_MODIFIER\n",
      "TERM_PROGRAM_VERSION\n",
      "GSETTINGS_SCHEMA_DIR_CONDA_BACKUP\n",
      "TERM_SESSION_ID\n",
      "USER\n",
      "CONDA_EXE\n",
      "SSH_AUTH_SOCK\n",
      "_CE_CONDA\n",
      "PATH\n",
      "GSETTINGS_SCHEMA_DIR\n",
      "CONDA_PREFIX\n",
      "__CFBundleIdentifier\n",
      "PWD\n",
      "XPC_FLAGS\n",
      "_CE_M\n",
      "XPC_SERVICE_NAME\n",
      "SHLVL\n",
      "HOME\n",
      "HOMEBREW_PREFIX\n",
      "CONDA_PYTHON_EXE\n",
      "LOGNAME\n",
      "LC_CTYPE\n",
      "CONDA_DEFAULT_ENV\n",
      "INFOPATH\n",
      "HOMEBREW_CELLAR\n",
      "_\n",
      "PYDEVD_USE_FRAME_EVAL\n",
      "JPY_PARENT_PID\n",
      "CLICOLOR\n",
      "PAGER\n",
      "GIT_PAGER\n",
      "MPLBACKEND\n"
     ]
    }
   ],
   "source": [
    "for _ in os.environ.keys():\n",
    "    print(_)"
   ]
  },
  {
   "cell_type": "code",
   "execution_count": 7,
   "id": "18a82ada",
   "metadata": {},
   "outputs": [
    {
     "name": "stdout",
     "output_type": "stream",
     "text": [
      "/Users/ankaraunifedaisi\n"
     ]
    }
   ],
   "source": [
    "print(os.environ['PWD'])"
   ]
  },
  {
   "cell_type": "markdown",
   "id": "89ebd29b",
   "metadata": {},
   "source": [
    "`os.listdir(path=...)` verilen path'deki dosyalari ve klasorleri dizer"
   ]
  },
  {
   "cell_type": "code",
   "execution_count": 9,
   "id": "3d706a33",
   "metadata": {},
   "outputs": [
    {
     "name": "stdout",
     "output_type": "stream",
     "text": [
      "['Music', '.kaggle', 'developer', 'os-module.ipynb', '.DS_Store', 'tutorial20200322-66446-ykbseo-with-cover-page-v2.pdf', '.CFUserTextEncoding', 'bash_profile', '.bashrc', '.omnisharp', '.templateengine', '.local', 'Pictures', '.zprofile', '.nuget', '.zsh_history', '.ipython', 'Desktop', 'Library', '.matplotlib', '.lesshst', '.spyder-py3', '.IdentityService', 'miniforge3', '.bash_profile.pysave', '.node_repl_history', '.android', '.bash_sessions', \"Robert Bruce Thompson, Barbara Fritchman Thompson - Building the Perfect PC-O'Reilly Media (2010).pdf\", 'a.out', 'PycharmProjects', 'Public', '.ssh', 'Movies', '.vimrc', '.dotnet', 'Applications', '.profile', '.Trash', '.ipynb_checkpoints', '.jupyter', '.BurpSuite', '.keras', '.npm', 'Documents', '.mono', '.vscode', '.bash_profile', '.swiftpm', 'Downloads', '.python_history', 'handout.pdf', '.gitconfig', '.bash_history', '.viminfo', '.zsh_sessions', '.conda']\n"
     ]
    }
   ],
   "source": [
    "print(os.listdir(path='.'))"
   ]
  },
  {
   "cell_type": "code",
   "execution_count": 10,
   "id": "1a19a30c",
   "metadata": {},
   "outputs": [
    {
     "name": "stdout",
     "output_type": "stream",
     "text": [
      "['Uzay Araştırmaları', 'music', 'jj1.jpeg', '10_2 Skaler ve Vektor Carpimlari.pdf', 'Understanding Electro-Mechanical Engineering An Introduction to Mechatronics (IEEE Press Understanding Science  Technology... (Lawrence J. Kamm) (z-lib.org).pdf', 'my-man-juice.png', 'Mühendislik Yaklaşımıyla Termodinamik.Onurdemirezen.com.pdf', 'haha.jpg', 'siu makaleler', '.DS_Store', \"Schaum's Serisi - Olasılık - Onurdemirezen.com.pdf\", 'Introduction to Languages, Machines and Logic Computable Languages, Abstract Machines and Formal Logic (Alan P. Parkes BSc, PhD (auth.)) (z-lib.org).pdf', '.localized', 'Analytic Combinatorics (Philippe Flajolet, Robert Sedgewick) (z-lib.org).pdf', 'Thuringia_Suhl_Cross_Church.jpg.webp', 'Screen Shot 2022-10-15 at 18.55.06.png', 'Goal+Setting+Questions.pdf', 'web', 'Learning Python powerful object-oriented programming (Mark Lutz) (z-lib.org).pdf', 'Learning Python powerful object-oriented progra... (z-lib.org).pdf', 'Screen Shot 2022-08-14 at 23.37.13.png', 'Screen Shot 2022-08-17 at 18.42.10.png', 'uice.png', 'Screen Shot 2022-10-10 at 19.07.14.png', 'RAPOR.docx', 'XXXIntroduction to splines in computer graphics and geometric modeling (Richard H. Bartels, John C. Beatty etc.) (z-lib.org).pdf', 'newAP_flood copy-min.jpg', 'Mathematik_Master.png', 'Screen Shot 2022-10-15 at 17.02.36.png', 'Screen Shot 2022-10-03 at 22.59.16.png', 'RECETE.jpg', 'integral-trigonometri.png', 'html-and-css-book-code-0915', 'python_data_structures_code', 'socrat.jpeg', 'newAP_flood copy.jpg', 'ieee transactions on pattern analysis and machine intelligence', 'Screen Shot 2022-08-02 at 23.27.26.png', '1324-Article Text-1321-1-10-20080129.pdf', 'Textbook on Spherical Astronomy (W. M. Smart, R. M. Green) (z-lib.org).pdf', 'Ekran Resmi 2022-07-16 02.57.37.png', 'Ekran Resmi 2022-07-19 00.19.12.png', 'mkm.jpg', 'newAP_flood.jpg', 'Photo on 06-08-2022 at 22.55.jpg', 'html_css_jon_duckett.pdf', 'An Introduction to the Mathematics and Methods of Astrodynamics, Revised Edition (Aiaa Education Series) (Richard H. Battin) (z-lib.org).pdf', 'Screen Shot 2022-08-13 at 1.46.22.png', 'ekc.pdf', 'genel_liste.docx', 'ispat matematik', 'Screen Shot 2022-09-19 at 14.54.11.png', 'Ort Asy Türk.docx']\n"
     ]
    }
   ],
   "source": [
    "print(os.listdir(path='./Desktop'))"
   ]
  },
  {
   "cell_type": "code",
   "execution_count": 11,
   "id": "a48e5bd1",
   "metadata": {},
   "outputs": [],
   "source": [
    "os.mkdir('./denenmis hayatlar') # denenmis hayatlar diye bir klasor aciyor"
   ]
  }
 ],
 "metadata": {
  "kernelspec": {
   "display_name": "Python 3 (ipykernel)",
   "language": "python",
   "name": "python3"
  },
  "language_info": {
   "codemirror_mode": {
    "name": "ipython",
    "version": 3
   },
   "file_extension": ".py",
   "mimetype": "text/x-python",
   "name": "python",
   "nbconvert_exporter": "python",
   "pygments_lexer": "ipython3",
   "version": "3.9.13"
  }
 },
 "nbformat": 4,
 "nbformat_minor": 5
}
