{
 "cells": [
  {
   "cell_type": "code",
   "execution_count": 1,
   "id": "af7a5076",
   "metadata": {},
   "outputs": [],
   "source": [
    "import inspect\n",
    "import numpy"
   ]
  },
  {
   "cell_type": "code",
   "execution_count": 2,
   "id": "82526921",
   "metadata": {},
   "outputs": [],
   "source": [
    "class Car:\n",
    "    \n",
    "    numOfCars = 0\n",
    "    \n",
    "    def __init__(self): \n",
    "        print('new instance created')\n",
    "        \n",
    "        Car.numOfCars += 1\n",
    "        \n",
    "    def runCar(self):\n",
    "        print('Car is run!')"
   ]
  },
  {
   "cell_type": "code",
   "execution_count": 3,
   "id": "eb11312d",
   "metadata": {},
   "outputs": [
    {
     "name": "stdout",
     "output_type": "stream",
     "text": [
      "new instance created\n"
     ]
    },
    {
     "data": {
      "text/plain": [
       "[('__class__', __main__.Car),\n",
       " ('__delattr__', <method-wrapper '__delattr__' of Car object at 0x1043beac0>),\n",
       " ('__dict__', {}),\n",
       " ('__dir__', <function Car.__dir__()>),\n",
       " ('__doc__', None),\n",
       " ('__eq__', <method-wrapper '__eq__' of Car object at 0x1043beac0>),\n",
       " ('__format__', <function Car.__format__(format_spec, /)>),\n",
       " ('__ge__', <method-wrapper '__ge__' of Car object at 0x1043beac0>),\n",
       " ('__getattribute__',\n",
       "  <method-wrapper '__getattribute__' of Car object at 0x1043beac0>),\n",
       " ('__gt__', <method-wrapper '__gt__' of Car object at 0x1043beac0>),\n",
       " ('__hash__', <method-wrapper '__hash__' of Car object at 0x1043beac0>),\n",
       " ('__init__',\n",
       "  <bound method Car.__init__ of <__main__.Car object at 0x1043beac0>>),\n",
       " ('__init_subclass__', <function Car.__init_subclass__>),\n",
       " ('__le__', <method-wrapper '__le__' of Car object at 0x1043beac0>),\n",
       " ('__lt__', <method-wrapper '__lt__' of Car object at 0x1043beac0>),\n",
       " ('__module__', '__main__'),\n",
       " ('__ne__', <method-wrapper '__ne__' of Car object at 0x1043beac0>),\n",
       " ('__new__', <function object.__new__(*args, **kwargs)>),\n",
       " ('__reduce__', <function Car.__reduce__()>),\n",
       " ('__reduce_ex__', <function Car.__reduce_ex__(protocol, /)>),\n",
       " ('__repr__', <method-wrapper '__repr__' of Car object at 0x1043beac0>),\n",
       " ('__setattr__', <method-wrapper '__setattr__' of Car object at 0x1043beac0>),\n",
       " ('__sizeof__', <function Car.__sizeof__()>),\n",
       " ('__str__', <method-wrapper '__str__' of Car object at 0x1043beac0>),\n",
       " ('__subclasshook__', <function Car.__subclasshook__>),\n",
       " ('__weakref__', None),\n",
       " ('numOfCars', 1),\n",
       " ('runCar', <bound method Car.runCar of <__main__.Car object at 0x1043beac0>>)]"
      ]
     },
     "execution_count": 3,
     "metadata": {},
     "output_type": "execute_result"
    }
   ],
   "source": [
    "inspect.getmembers(Car())"
   ]
  },
  {
   "cell_type": "code",
   "execution_count": 4,
   "id": "703f18be",
   "metadata": {},
   "outputs": [
    {
     "data": {
      "text/plain": [
       "True"
      ]
     },
     "execution_count": 4,
     "metadata": {},
     "output_type": "execute_result"
    }
   ],
   "source": [
    "inspect.ismodule(numpy) # return either True or False, check if module"
   ]
  },
  {
   "cell_type": "code",
   "execution_count": 5,
   "id": "97e219a1",
   "metadata": {},
   "outputs": [
    {
     "name": "stdout",
     "output_type": "stream",
     "text": [
      "new instance created\n"
     ]
    },
    {
     "data": {
      "text/plain": [
       "(True, False)"
      ]
     },
     "execution_count": 5,
     "metadata": {},
     "output_type": "execute_result"
    }
   ],
   "source": [
    "inspect.isclass(Car), inspect.isclass(Car()) # class_name = True, \n",
    "# class_name(), instantiation = False"
   ]
  },
  {
   "cell_type": "code",
   "execution_count": 6,
   "id": "d39ddeca",
   "metadata": {},
   "outputs": [
    {
     "name": "stdout",
     "output_type": "stream",
     "text": [
      "new instance created\n"
     ]
    },
    {
     "data": {
      "text/plain": [
       "True"
      ]
     },
     "execution_count": 6,
     "metadata": {},
     "output_type": "execute_result"
    }
   ],
   "source": [
    "inspect.ismethod(Car().runCar)"
   ]
  },
  {
   "cell_type": "code",
   "execution_count": 7,
   "id": "58222da0",
   "metadata": {},
   "outputs": [
    {
     "name": "stdout",
     "output_type": "stream",
     "text": [
      "new instance created\n",
      "Car is run!\n"
     ]
    },
    {
     "data": {
      "text/plain": [
       "False"
      ]
     },
     "execution_count": 7,
     "metadata": {},
     "output_type": "execute_result"
    }
   ],
   "source": [
    "inspect.ismethod(Car().runCar())"
   ]
  },
  {
   "cell_type": "code",
   "execution_count": 8,
   "id": "6953112c",
   "metadata": {},
   "outputs": [],
   "source": [
    "# check if function"
   ]
  },
  {
   "cell_type": "code",
   "execution_count": 9,
   "id": "f0838418",
   "metadata": {},
   "outputs": [
    {
     "data": {
      "text/plain": [
       "True"
      ]
     },
     "execution_count": 9,
     "metadata": {},
     "output_type": "execute_result"
    }
   ],
   "source": [
    "inspect.isfunction(Car.runCar)"
   ]
  },
  {
   "cell_type": "code",
   "execution_count": 10,
   "id": "6cef1d04",
   "metadata": {},
   "outputs": [
    {
     "name": "stdout",
     "output_type": "stream",
     "text": [
      "new instance created\n"
     ]
    },
    {
     "data": {
      "text/plain": [
       "False"
      ]
     },
     "execution_count": 10,
     "metadata": {},
     "output_type": "execute_result"
    }
   ],
   "source": [
    "inspect.isfunction(Car().runCar)"
   ]
  },
  {
   "cell_type": "code",
   "execution_count": 11,
   "id": "f0624ad2",
   "metadata": {},
   "outputs": [
    {
     "name": "stdout",
     "output_type": "stream",
     "text": [
      "new instance created\n",
      "Car is run!\n"
     ]
    },
    {
     "data": {
      "text/plain": [
       "False"
      ]
     },
     "execution_count": 11,
     "metadata": {},
     "output_type": "execute_result"
    }
   ],
   "source": [
    "inspect.isfunction(Car().runCar())"
   ]
  },
  {
   "cell_type": "code",
   "execution_count": 12,
   "id": "a128370b",
   "metadata": {},
   "outputs": [
    {
     "name": "stdout",
     "output_type": "stream",
     "text": [
      "True\n",
      "\n",
      "wow!\n",
      "False\n"
     ]
    }
   ],
   "source": [
    "def foo(): \n",
    "    print('wow!')\n",
    "    \n",
    "print(inspect.isfunction(foo), end='\\n\\n')\n",
    "print(inspect.isfunction(foo())) # first calls the function then the result"
   ]
  },
  {
   "cell_type": "code",
   "execution_count": 13,
   "id": "08d214ba",
   "metadata": {},
   "outputs": [
    {
     "name": "stdout",
     "output_type": "stream",
     "text": [
      "1 - 2 - 3 - 4 - 5 - 6 - 7 - "
     ]
    }
   ],
   "source": [
    "def generator(_range=7 + 1):\n",
    "    for num in range(1, _range):\n",
    "        yield num\n",
    "        \n",
    "x = generator()\n",
    "for i in x: print(i,  end=' - ', );"
   ]
  },
  {
   "cell_type": "code",
   "execution_count": 14,
   "id": "868693a2",
   "metadata": {},
   "outputs": [
    {
     "name": "stdout",
     "output_type": "stream",
     "text": [
      "False\n",
      "True\n"
     ]
    }
   ],
   "source": [
    "print(inspect.isgeneratorfunction(generator())) \n",
    "print(inspect.isgeneratorfunction(generator))"
   ]
  },
  {
   "cell_type": "code",
   "execution_count": 15,
   "id": "e8793667",
   "metadata": {},
   "outputs": [
    {
     "name": "stdout",
     "output_type": "stream",
     "text": [
      "True\n",
      "False\n"
     ]
    }
   ],
   "source": [
    "print(inspect.isgenerator(generator())) # .isgenerator() da argument function invoke edilmeli\n",
    "print(inspect.isgenerator(generator))"
   ]
  },
  {
   "cell_type": "code",
   "execution_count": 16,
   "id": "61047249",
   "metadata": {},
   "outputs": [
    {
     "data": {
      "text/plain": [
       "False"
      ]
     },
     "execution_count": 16,
     "metadata": {},
     "output_type": "execute_result"
    }
   ],
   "source": [
    "inspect.istraceback('FileNotFoundError')"
   ]
  },
  {
   "cell_type": "code",
   "execution_count": 17,
   "id": "863d593b",
   "metadata": {},
   "outputs": [
    {
     "data": {
      "text/plain": [
       "'/var/folders/nf/q9zk4d916ns2jn1cfv2k48080000gn/T/ipykernel_1971/1171851364.py'"
      ]
     },
     "execution_count": 17,
     "metadata": {},
     "output_type": "execute_result"
    }
   ],
   "source": [
    "inspect.getfile(generator)"
   ]
  },
  {
   "cell_type": "code",
   "execution_count": 18,
   "id": "566cd155",
   "metadata": {},
   "outputs": [],
   "source": [
    "# inspect.getfile(generator())\n",
    "# TypeError: module, class, method, function, traceback, frame, or code object was expected, \n",
    "# got generator"
   ]
  },
  {
   "cell_type": "code",
   "execution_count": 21,
   "id": "a659d2ea",
   "metadata": {},
   "outputs": [
    {
     "data": {
      "text/plain": [
       "<module 'numpy' from '/Users/ankaraunifedaisi/miniforge3/lib/python3.9/site-packages/numpy/__init__.py'>"
      ]
     },
     "execution_count": 21,
     "metadata": {},
     "output_type": "execute_result"
    }
   ],
   "source": [
    "import numpy \n",
    "inspect.getmodule(numpy)"
   ]
  },
  {
   "cell_type": "code",
   "execution_count": 22,
   "id": "de113c03",
   "metadata": {},
   "outputs": [],
   "source": [
    "from inspect import signature\n",
    "\n",
    "def foo(a, *, b:int, **kwargs):\n",
    "     pass\n",
    "\n",
    "sig = signature(foo)"
   ]
  },
  {
   "cell_type": "code",
   "execution_count": 23,
   "id": "f714bb22",
   "metadata": {},
   "outputs": [
    {
     "data": {
      "text/plain": [
       "'(a, *, b: int, **kwargs)'"
      ]
     },
     "execution_count": 23,
     "metadata": {},
     "output_type": "execute_result"
    }
   ],
   "source": [
    "str(sig)"
   ]
  },
  {
   "cell_type": "code",
   "execution_count": 24,
   "id": "7e5ba469",
   "metadata": {},
   "outputs": [
    {
     "data": {
      "text/plain": [
       "'b: int'"
      ]
     },
     "execution_count": 24,
     "metadata": {},
     "output_type": "execute_result"
    }
   ],
   "source": [
    "str(sig.parameters['b'])"
   ]
  },
  {
   "cell_type": "code",
   "execution_count": 25,
   "id": "08361bea",
   "metadata": {},
   "outputs": [
    {
     "data": {
      "text/plain": [
       "int"
      ]
     },
     "execution_count": 25,
     "metadata": {},
     "output_type": "execute_result"
    }
   ],
   "source": [
    "sig.parameters['b'].annotation"
   ]
  }
 ],
 "metadata": {
  "kernelspec": {
   "display_name": "Python 3 (ipykernel)",
   "language": "python",
   "name": "python3"
  },
  "language_info": {
   "codemirror_mode": {
    "name": "ipython",
    "version": 3
   },
   "file_extension": ".py",
   "mimetype": "text/x-python",
   "name": "python",
   "nbconvert_exporter": "python",
   "pygments_lexer": "ipython3",
   "version": "3.9.13"
  }
 },
 "nbformat": 4,
 "nbformat_minor": 5
}
