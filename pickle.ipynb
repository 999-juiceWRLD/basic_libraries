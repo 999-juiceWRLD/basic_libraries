{
 "cells": [
  {
   "cell_type": "markdown",
   "id": "0fcee323",
   "metadata": {},
   "source": [
    "### Pickle Kütüphanesi<br><br>\n",
    "\n",
    "- Aslında `pickle.dump()`'tan sonra ek'lerin hepsini silinebilir.<br><br>\n",
    "- Ancak `pickledPerson.pkl` cagirilacagi zaman `Person` sinifi blueprint olarak olmali, baska dosyada acilmaz!!"
   ]
  },
  {
   "cell_type": "code",
   "execution_count": 1,
   "id": "50ea8a1f",
   "metadata": {},
   "outputs": [],
   "source": [
    "import pickle"
   ]
  },
  {
   "cell_type": "code",
   "execution_count": 2,
   "id": "56e3e3be",
   "metadata": {},
   "outputs": [],
   "source": [
    "class Person:\n",
    "    \n",
    "    def __init__(self, name, age):\n",
    "        self.name = name\n",
    "        self.age = age\n",
    "        \n",
    "    def getInfo(self):\n",
    "        print(f'{self.name} - {self.age}')\n",
    "        return \n",
    "        \n",
    "    def getOlder(self, inc):\n",
    "        self.age += inc\n",
    "        \n",
    "    def changeName(self, new):\n",
    "        self.name = new"
   ]
  },
  {
   "cell_type": "code",
   "execution_count": 3,
   "id": "3a63486f",
   "metadata": {},
   "outputs": [],
   "source": [
    "ek = Person('emre', 19)\n",
    "ek.getOlder(12)\n",
    "ek.changeName('kahraman')"
   ]
  },
  {
   "cell_type": "code",
   "execution_count": 4,
   "id": "45efb4cb",
   "metadata": {},
   "outputs": [],
   "source": [
    "with open('pickledPerson.pkl', 'wb') as f:\n",
    "    pickle.dump(ek, f)"
   ]
  },
  {
   "cell_type": "code",
   "execution_count": 5,
   "id": "e9b721d1",
   "metadata": {},
   "outputs": [],
   "source": [
    "with open('pickledPerson.pkl', 'rb') as f:\n",
    "    pickle.load(f)"
   ]
  },
  {
   "cell_type": "code",
   "execution_count": 6,
   "id": "d709e6e5",
   "metadata": {},
   "outputs": [
    {
     "name": "stdout",
     "output_type": "stream",
     "text": [
      "kahraman - 31\n"
     ]
    }
   ],
   "source": [
    "ek.getInfo()"
   ]
  },
  {
   "cell_type": "code",
   "execution_count": 7,
   "id": "2901cdb3",
   "metadata": {},
   "outputs": [
    {
     "name": "stdout",
     "output_type": "stream",
     "text": [
      "kahraman - 19\n"
     ]
    }
   ],
   "source": [
    "ek.getOlder(-12)\n",
    "ek.getInfo()"
   ]
  },
  {
   "cell_type": "code",
   "execution_count": 8,
   "id": "53faefae",
   "metadata": {},
   "outputs": [
    {
     "name": "stdout",
     "output_type": "stream",
     "text": [
      "emre - 19\n"
     ]
    }
   ],
   "source": [
    "ek.changeName('emre')\n",
    "ek.getInfo()"
   ]
  },
  {
   "cell_type": "code",
   "execution_count": 9,
   "id": "deb4632a",
   "metadata": {},
   "outputs": [
    {
     "name": "stdout",
     "output_type": "stream",
     "text": [
      "emre kahraman - 19\n"
     ]
    }
   ],
   "source": [
    "ek.changeName('emre kahraman')\n",
    "ek.getInfo()"
   ]
  }
 ],
 "metadata": {
  "kernelspec": {
   "display_name": "Python 3 (ipykernel)",
   "language": "python",
   "name": "python3"
  },
  "language_info": {
   "codemirror_mode": {
    "name": "ipython",
    "version": 3
   },
   "file_extension": ".py",
   "mimetype": "text/x-python",
   "name": "python",
   "nbconvert_exporter": "python",
   "pygments_lexer": "ipython3",
   "version": "3.9.13"
  }
 },
 "nbformat": 4,
 "nbformat_minor": 5
}
