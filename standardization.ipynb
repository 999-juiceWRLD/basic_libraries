{
 "cells": [
  {
   "cell_type": "markdown",
   "id": "e027a768",
   "metadata": {},
   "source": [
    "# Z-Score or Data Normalization"
   ]
  },
  {
   "cell_type": "markdown",
   "id": "9905ae97",
   "metadata": {},
   "source": [
    "- Z-score normalization refers to the process of normalizing every value in a dataset such that the mean of all of the values is 0 and the standard deviation is 1.\n",
    "\n",
    "- We use the following formula to perform a z-score normalization on every value in a dataset:\n",
    "> $(x - \\mu) / \\sigma$\n",
    "\n",
    "- where:\n",
    "\n",
    "> $x$: Original value<br>\n",
    "> $μ$: Mean of data<br>\n",
    "> $σ$: Standard deviation of data<br>\n",
    "\n",
    "- The mean of the normalized values is 0 and the standard deviation of the normalized values is 1.\n"
   ]
  },
  {
   "cell_type": "markdown",
   "id": "b25d452b",
   "metadata": {},
   "source": [
    "This step is critical because some machine learning models will treat all features equally regardless of their scale. You’ll definitely want to standardize your data in the following situations:<br>\n",
    "- Before Principal Component Analysis\n",
    "- Before using any clustering or distance based algorithm (think KMeans or DBSCAN)\n",
    "- Before KNN\n",
    "- Before performing regularization methods like LASSO and Ridge"
   ]
  }
 ],
 "metadata": {
  "kernelspec": {
   "display_name": "Python 3 (ipykernel)",
   "language": "python",
   "name": "python3"
  },
  "language_info": {
   "codemirror_mode": {
    "name": "ipython",
    "version": 3
   },
   "file_extension": ".py",
   "mimetype": "text/x-python",
   "name": "python",
   "nbconvert_exporter": "python",
   "pygments_lexer": "ipython3",
   "version": "3.9.13"
  }
 },
 "nbformat": 4,
 "nbformat_minor": 5
}
